{
 "cells": [
  {
   "cell_type": "markdown",
   "id": "a1e2d443-f954-4711-8678-16061e08c1b2",
   "metadata": {},
   "source": [
    "# The Fourier Transform"
   ]
  },
  {
   "cell_type": "markdown",
   "id": "5ef1d122-ab41-4ab5-972a-6bc2041cd6ce",
   "metadata": {},
   "source": [
    "A proof by tadyen"
   ]
  },
  {
   "cell_type": "markdown",
   "id": "58c2192d-4a3d-4fb3-96be-c96f544b1e6e",
   "metadata": {},
   "source": [
    "## Preface\n",
    "\n",
    "The Fourier transform is usually taught in 2nd year Maths in STEM fields (As someone who did Engineering and Physics) but in my case, it's always either in too much detail (complicated way to learn) or with too little detail ***\"Here is a proof you can read at your own leisure. It's one mega lecture slide of weird jargon and stuff\"*** leaving me dissatisfied with my intuition or understanding of the Fourier transform. My feeling towards it has always been a \"Here's the formulae. Take it or leave it\"\n",
    "\n",
    "To further worsen it, I have never been satisfied with complex numbers and phasors. Why can we inherently treat angles as complex numbers? They are not the same thing! A reduction of $ 90^\\circ$ or $\\frac{\\pi}{2}$ radians is sometimes said to be simply dividing by ***i*** but clearly angles and complex numbers belong to a different class (or set) of numbers or algebra! SO WHY!?!\n",
    "\n",
    "My attempt to dispel this feeling has led me towards writing up proofs of it for myself. The following is my methodology for it.\n"
   ]
  },
  {
   "cell_type": "markdown",
   "id": "b56698e1-93f3-4341-8c1f-dc0af1f1575a",
   "metadata": {},
   "source": [
    "## Theorems\n",
    "\n",
    "We require a few basics to prove the theorem however. "
   ]
  },
  {
   "cell_type": "code",
   "execution_count": null,
   "id": "8ebab062-f0d3-415e-b78b-1ccc6b786c7f",
   "metadata": {},
   "outputs": [],
   "source": [
    "##"
   ]
  }
 ],
 "metadata": {
  "kernelspec": {
   "display_name": "Python 3",
   "language": "python",
   "name": "python3"
  },
  "language_info": {
   "codemirror_mode": {
    "name": "ipython",
    "version": 3
   },
   "file_extension": ".py",
   "mimetype": "text/x-python",
   "name": "python",
   "nbconvert_exporter": "python",
   "pygments_lexer": "ipython3",
   "version": "3.8.8"
  }
 },
 "nbformat": 4,
 "nbformat_minor": 5
}
